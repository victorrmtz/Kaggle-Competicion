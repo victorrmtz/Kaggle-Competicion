{
 "cells": [
  {
   "cell_type": "code",
   "execution_count": 1,
   "id": "66f9d471",
   "metadata": {},
   "outputs": [],
   "source": [
    "%matplotlib inline\n",
    "\n",
    "import pandas as pd\n",
    "import numpy as np\n",
    "import pylab as plt\n",
    "import seaborn as sns\n",
    "\n",
    "from sklearn.model_selection import train_test_split as tts\n",
    "from sklearn.metrics import mean_squared_error as mse\n",
    "from sklearn.ensemble import RandomForestRegressor as RFR  \n",
    "from sklearn.tree import ExtraTreeRegressor as ETR\n",
    "from sklearn.tree import DecisionTreeRegressor as DTR\n",
    "from sklearn.ensemble import GradientBoostingRegressor as GBR\n",
    "from xgboost import XGBRegressor as XGBR\n",
    "from catboost import CatBoostRegressor as CTR\n",
    "from lightgbm import LGBMRegressor as LGBMR\n",
    "\n",
    "import warnings\n",
    "warnings.filterwarnings(\"ignore\")\n",
    "pd.set_option('display.max_columns', None)"
   ]
  },
  {
   "cell_type": "code",
   "execution_count": 2,
   "id": "2d7bca95",
   "metadata": {},
   "outputs": [],
   "source": [
    "salaries= pd.read_csv('../data/salaries_data.csv')\n",
    "\n",
    "test = pd.read_csv('../data/testeo.csv')"
   ]
  },
  {
   "cell_type": "code",
   "execution_count": 3,
   "id": "771c6c66",
   "metadata": {},
   "outputs": [],
   "source": [
    "#Borramos columnas que no hace falta\n",
    "test.drop('salary', inplace=True, axis=1)\n",
    "test.drop('salary_currency', inplace=True, axis=1)"
   ]
  },
  {
   "cell_type": "code",
   "execution_count": 4,
   "id": "d6ce84ba",
   "metadata": {},
   "outputs": [
    {
     "data": {
      "text/html": [
       "<div>\n",
       "<style scoped>\n",
       "    .dataframe tbody tr th:only-of-type {\n",
       "        vertical-align: middle;\n",
       "    }\n",
       "\n",
       "    .dataframe tbody tr th {\n",
       "        vertical-align: top;\n",
       "    }\n",
       "\n",
       "    .dataframe thead th {\n",
       "        text-align: right;\n",
       "    }\n",
       "</style>\n",
       "<table border=\"1\" class=\"dataframe\">\n",
       "  <thead>\n",
       "    <tr style=\"text-align: right;\">\n",
       "      <th></th>\n",
       "      <th>work_year</th>\n",
       "      <th>experience_level</th>\n",
       "      <th>employment_type</th>\n",
       "      <th>job_title</th>\n",
       "      <th>salary</th>\n",
       "      <th>salary_currency</th>\n",
       "      <th>salary_in_usd</th>\n",
       "      <th>employee_residence</th>\n",
       "      <th>remote_ratio</th>\n",
       "      <th>company_location</th>\n",
       "      <th>company_size</th>\n",
       "    </tr>\n",
       "  </thead>\n",
       "  <tbody>\n",
       "    <tr>\n",
       "      <th>0</th>\n",
       "      <td>2022</td>\n",
       "      <td>SE</td>\n",
       "      <td>FT</td>\n",
       "      <td>Data Engineer</td>\n",
       "      <td>140250</td>\n",
       "      <td>USD</td>\n",
       "      <td>140250</td>\n",
       "      <td>US</td>\n",
       "      <td>100</td>\n",
       "      <td>US</td>\n",
       "      <td>M</td>\n",
       "    </tr>\n",
       "    <tr>\n",
       "      <th>1</th>\n",
       "      <td>2022</td>\n",
       "      <td>SE</td>\n",
       "      <td>FT</td>\n",
       "      <td>Data Engineer</td>\n",
       "      <td>135000</td>\n",
       "      <td>USD</td>\n",
       "      <td>135000</td>\n",
       "      <td>US</td>\n",
       "      <td>100</td>\n",
       "      <td>US</td>\n",
       "      <td>M</td>\n",
       "    </tr>\n",
       "    <tr>\n",
       "      <th>2</th>\n",
       "      <td>2021</td>\n",
       "      <td>MI</td>\n",
       "      <td>FT</td>\n",
       "      <td>BI Data Analyst</td>\n",
       "      <td>100000</td>\n",
       "      <td>USD</td>\n",
       "      <td>100000</td>\n",
       "      <td>US</td>\n",
       "      <td>100</td>\n",
       "      <td>US</td>\n",
       "      <td>M</td>\n",
       "    </tr>\n",
       "    <tr>\n",
       "      <th>3</th>\n",
       "      <td>2021</td>\n",
       "      <td>MI</td>\n",
       "      <td>CT</td>\n",
       "      <td>ML Engineer</td>\n",
       "      <td>270000</td>\n",
       "      <td>USD</td>\n",
       "      <td>270000</td>\n",
       "      <td>US</td>\n",
       "      <td>100</td>\n",
       "      <td>US</td>\n",
       "      <td>L</td>\n",
       "    </tr>\n",
       "    <tr>\n",
       "      <th>4</th>\n",
       "      <td>2021</td>\n",
       "      <td>MI</td>\n",
       "      <td>FT</td>\n",
       "      <td>Data Engineer</td>\n",
       "      <td>22000</td>\n",
       "      <td>EUR</td>\n",
       "      <td>26005</td>\n",
       "      <td>RO</td>\n",
       "      <td>0</td>\n",
       "      <td>US</td>\n",
       "      <td>L</td>\n",
       "    </tr>\n",
       "  </tbody>\n",
       "</table>\n",
       "</div>"
      ],
      "text/plain": [
       "   work_year experience_level employment_type        job_title  salary  \\\n",
       "0       2022               SE              FT    Data Engineer  140250   \n",
       "1       2022               SE              FT    Data Engineer  135000   \n",
       "2       2021               MI              FT  BI Data Analyst  100000   \n",
       "3       2021               MI              CT      ML Engineer  270000   \n",
       "4       2021               MI              FT    Data Engineer   22000   \n",
       "\n",
       "  salary_currency  salary_in_usd employee_residence  remote_ratio  \\\n",
       "0             USD         140250                 US           100   \n",
       "1             USD         135000                 US           100   \n",
       "2             USD         100000                 US           100   \n",
       "3             USD         270000                 US           100   \n",
       "4             EUR          26005                 RO             0   \n",
       "\n",
       "  company_location company_size  \n",
       "0               US            M  \n",
       "1               US            M  \n",
       "2               US            M  \n",
       "3               US            L  \n",
       "4               US            L  "
      ]
     },
     "execution_count": 4,
     "metadata": {},
     "output_type": "execute_result"
    }
   ],
   "source": [
    "salaries.head()"
   ]
  },
  {
   "cell_type": "code",
   "execution_count": 5,
   "id": "3979424d",
   "metadata": {},
   "outputs": [
    {
     "name": "stdout",
     "output_type": "stream",
     "text": [
      "{'EN': 0, 'SE': 1, 'MI': 2, 'EX': 3}\n",
      "{'FT': 0, 'CT': 1, 'PT': 2, 'FL': 3}\n",
      "{'Lead Machine Learning Engineer': 0, 'Lead Data Scientist': 1, 'Data Analyst': 2, 'Data Architect': 3, 'Data Analytics Manager': 4, 'Principal Data Scientist': 5, 'Machine Learning Infrastructure Engineer': 6, 'Data Science Consultant': 7, 'Director of Data Engineering': 8, 'NLP Engineer': 9, 'Computer Vision Software Engineer': 10, 'Financial Data Analyst': 11, 'Product Data Analyst': 12, 'Head of Data Science': 13, 'Machine Learning Developer': 14, 'Research Scientist': 15, 'Finance Data Analyst': 16, 'Machine Learning Manager': 17, 'ETL Developer': 18, 'Business Data Analyst': 19, 'Data Engineering Manager': 20, 'Analytics Engineer': 21, '3D Computer Vision Researcher': 22, 'Data Science Manager': 23, 'Director of Data Science': 24, 'Head of Data': 25, 'Data Scientist': 26, 'Machine Learning Engineer': 27, 'Data Science Engineer': 28, 'Data Specialist': 29, 'Applied Data Scientist': 30, 'BI Data Analyst': 31, 'Lead Data Engineer': 32, 'ML Engineer': 33, 'Machine Learning Scientist': 34, 'Cloud Data Engineer': 35, 'Data Engineer': 36, 'Principal Data Engineer': 37, 'Marketing Data Analyst': 38, 'Applied Machine Learning Scientist': 39, 'Data Analytics Lead': 40, 'Lead Data Analyst': 41, 'Staff Data Scientist': 42, 'Data Analytics Engineer': 43, 'Computer Vision Engineer': 44, 'Big Data Architect': 45, 'Head of Machine Learning': 46, 'Principal Data Analyst': 47, 'AI Scientist': 48, 'Big Data Engineer': 49}\n",
      "{'PL': 0, 'CH': 1, 'IT': 2, 'TR': 3, 'UA': 4, 'US': 5, 'PH': 6, 'CO': 7, 'RO': 8, 'TN': 9, 'PT': 10, 'JE': 11, 'HK': 12, 'EE': 13, 'SG': 14, 'AE': 15, 'RS': 16, 'MD': 17, 'MY': 18, 'GR': 19, 'IR': 20, 'HR': 21, 'JP': 22, 'CL': 23, 'PR': 24, 'DK': 25, 'LU': 26, 'GB': 27, 'RU': 28, 'CA': 29, 'IE': 30, 'NZ': 31, 'SI': 32, 'CZ': 33, 'IQ': 34, 'BR': 35, 'PK': 36, 'VN': 37, 'BG': 38, 'CN': 39, 'NL': 40, 'BE': 41, 'KE': 42, 'DZ': 43, 'NG': 44, 'BO': 45, 'DE': 46, 'AU': 47, 'AR': 48, 'MX': 49, 'FR': 50, 'MT': 51, 'HN': 52, 'ES': 53, 'IN': 54, 'AT': 55, 'HU': 56}\n",
      "{'PL': 0, 'CH': 1, 'IT': 2, 'TR': 3, 'UA': 4, 'US': 5, 'CO': 6, 'RO': 7, 'PT': 8, 'EE': 9, 'SG': 10, 'AE': 11, 'AS': 12, 'MD': 13, 'MY': 14, 'GR': 15, 'IR': 16, 'HR': 17, 'JP': 18, 'CL': 19, 'DK': 20, 'IL': 21, 'LU': 22, 'GB': 23, 'RU': 24, 'CA': 25, 'IE': 26, 'NZ': 27, 'SI': 28, 'CZ': 29, 'IQ': 30, 'BR': 31, 'PK': 32, 'VN': 33, 'CN': 34, 'NL': 35, 'BE': 36, 'KE': 37, 'DZ': 38, 'NG': 39, 'DE': 40, 'AU': 41, 'MX': 42, 'FR': 43, 'MT': 44, 'HN': 45, 'ES': 46, 'IN': 47, 'AT': 48, 'HU': 49}\n",
      "{'L': 0, 'M': 1, 'S': 2}\n"
     ]
    }
   ],
   "source": [
    "def diction(col):\n",
    "    lista = list(set(list(salaries[col].unique()) + list(test[col].unique())))\n",
    "    nums =[i for i in range(len(lista))]\n",
    "    print({(lista[i]): (nums[i]) for i in range(len(lista))})\n",
    "    return {(lista[i]): (nums[i]) for i in range(len(lista))}\n",
    "\n",
    "dictio_experience_level = diction('experience_level')\n",
    "dictio_employment_type = diction('employment_type')\n",
    "dictio_job_title = diction('job_title')\n",
    "dictio_employee_residence = diction('employee_residence')\n",
    "dictio_company_location = diction('company_location')\n",
    "dictio_company_size = diction('company_size')"
   ]
  },
  {
   "cell_type": "code",
   "execution_count": 6,
   "id": "322a626e",
   "metadata": {},
   "outputs": [
    {
     "name": "stdout",
     "output_type": "stream",
     "text": [
      "   work_year experience_level employment_type        job_title  salary_in_usd  \\\n",
      "0       2022               SE              FT    Data Engineer         140250   \n",
      "1       2022               SE              FT    Data Engineer         135000   \n",
      "2       2021               MI              FT  BI Data Analyst         100000   \n",
      "3       2021               MI              CT      ML Engineer         270000   \n",
      "4       2021               MI              FT    Data Engineer          26005   \n",
      "\n",
      "  employee_residence  remote_ratio company_location company_size  \n",
      "0                 US           100               US            M  \n",
      "1                 US           100               US            M  \n",
      "2                 US           100               US            M  \n",
      "3                 US           100               US            L  \n",
      "4                 RO             0               US            L  \n",
      "   work_year experience_level employment_type                   job_title  \\\n",
      "0       2020               SE              FT  Machine Learning Scientist   \n",
      "1       2020               MI              FT           Lead Data Analyst   \n",
      "2       2020               MI              FT                Data Analyst   \n",
      "3       2020               MI              FT   Machine Learning Engineer   \n",
      "4       2020               MI              FT        Product Data Analyst   \n",
      "\n",
      "  employee_residence  remote_ratio company_location company_size  \n",
      "0                 JP             0               JP            S  \n",
      "1                 US           100               US            L  \n",
      "2                 US           100               US            L  \n",
      "3                 CN             0               CN            M  \n",
      "4                 IN           100               IN            L  \n"
     ]
    }
   ],
   "source": [
    "salaries_copy_1 = salaries.copy(deep=True)\n",
    "salaries_copy_1.head()\n",
    "\n",
    "salaries_copy_1.drop(['salary', 'salary_currency'], inplace=True,axis=1)\n",
    "print(salaries_copy_1.head())\n",
    "\n",
    "test_copy_1 = test.copy(deep=True)\n",
    "print(test_copy_1.head())"
   ]
  },
  {
   "cell_type": "code",
   "execution_count": 7,
   "id": "d0a69ab9",
   "metadata": {},
   "outputs": [
    {
     "data": {
      "text/plain": [
       "((107, 8), (500, 9))"
      ]
     },
     "execution_count": 7,
     "metadata": {},
     "output_type": "execute_result"
    }
   ],
   "source": [
    "test_copy_1.shape, salaries_copy_1.shape"
   ]
  },
  {
   "cell_type": "code",
   "execution_count": 8,
   "id": "e7622739",
   "metadata": {},
   "outputs": [
    {
     "data": {
      "text/html": [
       "<div>\n",
       "<style scoped>\n",
       "    .dataframe tbody tr th:only-of-type {\n",
       "        vertical-align: middle;\n",
       "    }\n",
       "\n",
       "    .dataframe tbody tr th {\n",
       "        vertical-align: top;\n",
       "    }\n",
       "\n",
       "    .dataframe thead th {\n",
       "        text-align: right;\n",
       "    }\n",
       "</style>\n",
       "<table border=\"1\" class=\"dataframe\">\n",
       "  <thead>\n",
       "    <tr style=\"text-align: right;\">\n",
       "      <th></th>\n",
       "      <th>work_year</th>\n",
       "      <th>experience_level</th>\n",
       "      <th>employment_type</th>\n",
       "      <th>job_title</th>\n",
       "      <th>employee_residence</th>\n",
       "      <th>remote_ratio</th>\n",
       "      <th>company_location</th>\n",
       "      <th>company_size</th>\n",
       "      <th>y</th>\n",
       "    </tr>\n",
       "  </thead>\n",
       "  <tbody>\n",
       "    <tr>\n",
       "      <th>0</th>\n",
       "      <td>2020</td>\n",
       "      <td>SE</td>\n",
       "      <td>FT</td>\n",
       "      <td>Machine Learning Scientist</td>\n",
       "      <td>JP</td>\n",
       "      <td>0</td>\n",
       "      <td>JP</td>\n",
       "      <td>S</td>\n",
       "      <td>-1</td>\n",
       "    </tr>\n",
       "    <tr>\n",
       "      <th>1</th>\n",
       "      <td>2020</td>\n",
       "      <td>MI</td>\n",
       "      <td>FT</td>\n",
       "      <td>Lead Data Analyst</td>\n",
       "      <td>US</td>\n",
       "      <td>100</td>\n",
       "      <td>US</td>\n",
       "      <td>L</td>\n",
       "      <td>-1</td>\n",
       "    </tr>\n",
       "    <tr>\n",
       "      <th>2</th>\n",
       "      <td>2020</td>\n",
       "      <td>MI</td>\n",
       "      <td>FT</td>\n",
       "      <td>Data Analyst</td>\n",
       "      <td>US</td>\n",
       "      <td>100</td>\n",
       "      <td>US</td>\n",
       "      <td>L</td>\n",
       "      <td>-1</td>\n",
       "    </tr>\n",
       "    <tr>\n",
       "      <th>3</th>\n",
       "      <td>2020</td>\n",
       "      <td>MI</td>\n",
       "      <td>FT</td>\n",
       "      <td>Machine Learning Engineer</td>\n",
       "      <td>CN</td>\n",
       "      <td>0</td>\n",
       "      <td>CN</td>\n",
       "      <td>M</td>\n",
       "      <td>-1</td>\n",
       "    </tr>\n",
       "    <tr>\n",
       "      <th>4</th>\n",
       "      <td>2020</td>\n",
       "      <td>MI</td>\n",
       "      <td>FT</td>\n",
       "      <td>Product Data Analyst</td>\n",
       "      <td>IN</td>\n",
       "      <td>100</td>\n",
       "      <td>IN</td>\n",
       "      <td>L</td>\n",
       "      <td>-1</td>\n",
       "    </tr>\n",
       "  </tbody>\n",
       "</table>\n",
       "</div>"
      ],
      "text/plain": [
       "   work_year experience_level employment_type                   job_title  \\\n",
       "0       2020               SE              FT  Machine Learning Scientist   \n",
       "1       2020               MI              FT           Lead Data Analyst   \n",
       "2       2020               MI              FT                Data Analyst   \n",
       "3       2020               MI              FT   Machine Learning Engineer   \n",
       "4       2020               MI              FT        Product Data Analyst   \n",
       "\n",
       "  employee_residence  remote_ratio company_location company_size  y  \n",
       "0                 JP             0               JP            S -1  \n",
       "1                 US           100               US            L -1  \n",
       "2                 US           100               US            L -1  \n",
       "3                 CN             0               CN            M -1  \n",
       "4                 IN           100               IN            L -1  "
      ]
     },
     "execution_count": 8,
     "metadata": {},
     "output_type": "execute_result"
    }
   ],
   "source": [
    "test_copy_1['y'] = -1\n",
    "test_copy_1.head()"
   ]
  },
  {
   "cell_type": "code",
   "execution_count": 9,
   "id": "4bec0276",
   "metadata": {},
   "outputs": [
    {
     "data": {
      "text/plain": [
       "((107, 9), (500, 9))"
      ]
     },
     "execution_count": 9,
     "metadata": {},
     "output_type": "execute_result"
    }
   ],
   "source": [
    "test_copy_1.shape, salaries_copy_1.shape"
   ]
  },
  {
   "cell_type": "code",
   "execution_count": 10,
   "id": "8eb695b7",
   "metadata": {},
   "outputs": [],
   "source": [
    "todo = pd.concat([test_copy_1, salaries_copy_1])"
   ]
  },
  {
   "cell_type": "code",
   "execution_count": 11,
   "id": "3a228495",
   "metadata": {},
   "outputs": [
    {
     "data": {
      "text/html": [
       "<div>\n",
       "<style scoped>\n",
       "    .dataframe tbody tr th:only-of-type {\n",
       "        vertical-align: middle;\n",
       "    }\n",
       "\n",
       "    .dataframe tbody tr th {\n",
       "        vertical-align: top;\n",
       "    }\n",
       "\n",
       "    .dataframe thead th {\n",
       "        text-align: right;\n",
       "    }\n",
       "</style>\n",
       "<table border=\"1\" class=\"dataframe\">\n",
       "  <thead>\n",
       "    <tr style=\"text-align: right;\">\n",
       "      <th></th>\n",
       "      <th>work_year</th>\n",
       "      <th>experience_level</th>\n",
       "      <th>employment_type</th>\n",
       "      <th>job_title</th>\n",
       "      <th>employee_residence</th>\n",
       "      <th>remote_ratio</th>\n",
       "      <th>company_location</th>\n",
       "      <th>company_size</th>\n",
       "      <th>y</th>\n",
       "      <th>salary_in_usd</th>\n",
       "    </tr>\n",
       "  </thead>\n",
       "  <tbody>\n",
       "    <tr>\n",
       "      <th>0</th>\n",
       "      <td>2020</td>\n",
       "      <td>1</td>\n",
       "      <td>0</td>\n",
       "      <td>34</td>\n",
       "      <td>22</td>\n",
       "      <td>0</td>\n",
       "      <td>18</td>\n",
       "      <td>2</td>\n",
       "      <td>-1.0</td>\n",
       "      <td>NaN</td>\n",
       "    </tr>\n",
       "    <tr>\n",
       "      <th>1</th>\n",
       "      <td>2020</td>\n",
       "      <td>2</td>\n",
       "      <td>0</td>\n",
       "      <td>41</td>\n",
       "      <td>5</td>\n",
       "      <td>100</td>\n",
       "      <td>5</td>\n",
       "      <td>0</td>\n",
       "      <td>-1.0</td>\n",
       "      <td>NaN</td>\n",
       "    </tr>\n",
       "    <tr>\n",
       "      <th>2</th>\n",
       "      <td>2020</td>\n",
       "      <td>2</td>\n",
       "      <td>0</td>\n",
       "      <td>2</td>\n",
       "      <td>5</td>\n",
       "      <td>100</td>\n",
       "      <td>5</td>\n",
       "      <td>0</td>\n",
       "      <td>-1.0</td>\n",
       "      <td>NaN</td>\n",
       "    </tr>\n",
       "    <tr>\n",
       "      <th>3</th>\n",
       "      <td>2020</td>\n",
       "      <td>2</td>\n",
       "      <td>0</td>\n",
       "      <td>27</td>\n",
       "      <td>39</td>\n",
       "      <td>0</td>\n",
       "      <td>34</td>\n",
       "      <td>1</td>\n",
       "      <td>-1.0</td>\n",
       "      <td>NaN</td>\n",
       "    </tr>\n",
       "    <tr>\n",
       "      <th>4</th>\n",
       "      <td>2020</td>\n",
       "      <td>2</td>\n",
       "      <td>0</td>\n",
       "      <td>12</td>\n",
       "      <td>54</td>\n",
       "      <td>100</td>\n",
       "      <td>47</td>\n",
       "      <td>0</td>\n",
       "      <td>-1.0</td>\n",
       "      <td>NaN</td>\n",
       "    </tr>\n",
       "  </tbody>\n",
       "</table>\n",
       "</div>"
      ],
      "text/plain": [
       "   work_year  experience_level  employment_type  job_title  \\\n",
       "0       2020                 1                0         34   \n",
       "1       2020                 2                0         41   \n",
       "2       2020                 2                0          2   \n",
       "3       2020                 2                0         27   \n",
       "4       2020                 2                0         12   \n",
       "\n",
       "   employee_residence  remote_ratio  company_location  company_size    y  \\\n",
       "0                  22             0                18             2 -1.0   \n",
       "1                   5           100                 5             0 -1.0   \n",
       "2                   5           100                 5             0 -1.0   \n",
       "3                  39             0                34             1 -1.0   \n",
       "4                  54           100                47             0 -1.0   \n",
       "\n",
       "   salary_in_usd  \n",
       "0            NaN  \n",
       "1            NaN  \n",
       "2            NaN  \n",
       "3            NaN  \n",
       "4            NaN  "
      ]
     },
     "execution_count": 11,
     "metadata": {},
     "output_type": "execute_result"
    }
   ],
   "source": [
    "todo.job_title = todo.job_title.apply(lambda x: dictio_job_title[x])\n",
    "todo.employment_type = todo.employment_type.apply(lambda x: dictio_employment_type[x])\n",
    "todo.employee_residence = todo.employee_residence.apply(lambda x: dictio_employee_residence[x])\n",
    "todo.experience_level = todo.experience_level.apply(lambda x: dictio_experience_level[x])\n",
    "todo.company_size = todo.company_size.apply(lambda x: dictio_company_size[x])\n",
    "todo.company_location = todo.company_location.apply(lambda x: dictio_company_location[x])\n",
    "todo.head()"
   ]
  },
  {
   "cell_type": "code",
   "execution_count": 12,
   "id": "fc9ce098",
   "metadata": {},
   "outputs": [
    {
     "data": {
      "text/html": [
       "<div>\n",
       "<style scoped>\n",
       "    .dataframe tbody tr th:only-of-type {\n",
       "        vertical-align: middle;\n",
       "    }\n",
       "\n",
       "    .dataframe tbody tr th {\n",
       "        vertical-align: top;\n",
       "    }\n",
       "\n",
       "    .dataframe thead th {\n",
       "        text-align: right;\n",
       "    }\n",
       "</style>\n",
       "<table border=\"1\" class=\"dataframe\">\n",
       "  <thead>\n",
       "    <tr style=\"text-align: right;\">\n",
       "      <th></th>\n",
       "      <th>work_year</th>\n",
       "      <th>experience_level</th>\n",
       "      <th>employment_type</th>\n",
       "      <th>job_title</th>\n",
       "      <th>employee_residence</th>\n",
       "      <th>remote_ratio</th>\n",
       "      <th>company_location</th>\n",
       "      <th>company_size</th>\n",
       "      <th>y</th>\n",
       "      <th>salary_in_usd</th>\n",
       "    </tr>\n",
       "  </thead>\n",
       "  <tbody>\n",
       "    <tr>\n",
       "      <th>0</th>\n",
       "      <td>2020</td>\n",
       "      <td>1</td>\n",
       "      <td>0</td>\n",
       "      <td>34</td>\n",
       "      <td>22</td>\n",
       "      <td>0</td>\n",
       "      <td>18</td>\n",
       "      <td>2</td>\n",
       "      <td>-1.0</td>\n",
       "      <td>NaN</td>\n",
       "    </tr>\n",
       "    <tr>\n",
       "      <th>1</th>\n",
       "      <td>2020</td>\n",
       "      <td>2</td>\n",
       "      <td>0</td>\n",
       "      <td>41</td>\n",
       "      <td>5</td>\n",
       "      <td>100</td>\n",
       "      <td>5</td>\n",
       "      <td>0</td>\n",
       "      <td>-1.0</td>\n",
       "      <td>NaN</td>\n",
       "    </tr>\n",
       "    <tr>\n",
       "      <th>2</th>\n",
       "      <td>2020</td>\n",
       "      <td>2</td>\n",
       "      <td>0</td>\n",
       "      <td>2</td>\n",
       "      <td>5</td>\n",
       "      <td>100</td>\n",
       "      <td>5</td>\n",
       "      <td>0</td>\n",
       "      <td>-1.0</td>\n",
       "      <td>NaN</td>\n",
       "    </tr>\n",
       "    <tr>\n",
       "      <th>3</th>\n",
       "      <td>2020</td>\n",
       "      <td>2</td>\n",
       "      <td>0</td>\n",
       "      <td>27</td>\n",
       "      <td>39</td>\n",
       "      <td>0</td>\n",
       "      <td>34</td>\n",
       "      <td>1</td>\n",
       "      <td>-1.0</td>\n",
       "      <td>NaN</td>\n",
       "    </tr>\n",
       "    <tr>\n",
       "      <th>4</th>\n",
       "      <td>2020</td>\n",
       "      <td>2</td>\n",
       "      <td>0</td>\n",
       "      <td>12</td>\n",
       "      <td>54</td>\n",
       "      <td>100</td>\n",
       "      <td>47</td>\n",
       "      <td>0</td>\n",
       "      <td>-1.0</td>\n",
       "      <td>NaN</td>\n",
       "    </tr>\n",
       "  </tbody>\n",
       "</table>\n",
       "</div>"
      ],
      "text/plain": [
       "   work_year  experience_level  employment_type  job_title  \\\n",
       "0       2020                 1                0         34   \n",
       "1       2020                 2                0         41   \n",
       "2       2020                 2                0          2   \n",
       "3       2020                 2                0         27   \n",
       "4       2020                 2                0         12   \n",
       "\n",
       "   employee_residence  remote_ratio  company_location  company_size    y  \\\n",
       "0                  22             0                18             2 -1.0   \n",
       "1                   5           100                 5             0 -1.0   \n",
       "2                   5           100                 5             0 -1.0   \n",
       "3                  39             0                34             1 -1.0   \n",
       "4                  54           100                47             0 -1.0   \n",
       "\n",
       "   salary_in_usd  \n",
       "0            NaN  \n",
       "1            NaN  \n",
       "2            NaN  \n",
       "3            NaN  \n",
       "4            NaN  "
      ]
     },
     "execution_count": 12,
     "metadata": {},
     "output_type": "execute_result"
    }
   ],
   "source": [
    "ok = todo.loc[todo['y'] == -1]\n",
    "ok.head()"
   ]
  },
  {
   "cell_type": "code",
   "execution_count": 13,
   "id": "0d7bea76",
   "metadata": {},
   "outputs": [
    {
     "data": {
      "text/plain": [
       "(107, 10)"
      ]
     },
     "execution_count": 13,
     "metadata": {},
     "output_type": "execute_result"
    }
   ],
   "source": [
    "ok.shape"
   ]
  },
  {
   "cell_type": "code",
   "execution_count": 14,
   "id": "5d917fd9",
   "metadata": {
    "scrolled": true
   },
   "outputs": [
    {
     "data": {
      "text/html": [
       "<div>\n",
       "<style scoped>\n",
       "    .dataframe tbody tr th:only-of-type {\n",
       "        vertical-align: middle;\n",
       "    }\n",
       "\n",
       "    .dataframe tbody tr th {\n",
       "        vertical-align: top;\n",
       "    }\n",
       "\n",
       "    .dataframe thead th {\n",
       "        text-align: right;\n",
       "    }\n",
       "</style>\n",
       "<table border=\"1\" class=\"dataframe\">\n",
       "  <thead>\n",
       "    <tr style=\"text-align: right;\">\n",
       "      <th></th>\n",
       "      <th>work_year</th>\n",
       "      <th>experience_level</th>\n",
       "      <th>employment_type</th>\n",
       "      <th>job_title</th>\n",
       "      <th>employee_residence</th>\n",
       "      <th>remote_ratio</th>\n",
       "      <th>company_location</th>\n",
       "      <th>company_size</th>\n",
       "      <th>y</th>\n",
       "      <th>salary_in_usd</th>\n",
       "    </tr>\n",
       "  </thead>\n",
       "  <tbody>\n",
       "    <tr>\n",
       "      <th>0</th>\n",
       "      <td>2022</td>\n",
       "      <td>1</td>\n",
       "      <td>0</td>\n",
       "      <td>36</td>\n",
       "      <td>5</td>\n",
       "      <td>100</td>\n",
       "      <td>5</td>\n",
       "      <td>1</td>\n",
       "      <td>NaN</td>\n",
       "      <td>140250.0</td>\n",
       "    </tr>\n",
       "    <tr>\n",
       "      <th>1</th>\n",
       "      <td>2022</td>\n",
       "      <td>1</td>\n",
       "      <td>0</td>\n",
       "      <td>36</td>\n",
       "      <td>5</td>\n",
       "      <td>100</td>\n",
       "      <td>5</td>\n",
       "      <td>1</td>\n",
       "      <td>NaN</td>\n",
       "      <td>135000.0</td>\n",
       "    </tr>\n",
       "    <tr>\n",
       "      <th>2</th>\n",
       "      <td>2021</td>\n",
       "      <td>2</td>\n",
       "      <td>0</td>\n",
       "      <td>31</td>\n",
       "      <td>5</td>\n",
       "      <td>100</td>\n",
       "      <td>5</td>\n",
       "      <td>1</td>\n",
       "      <td>NaN</td>\n",
       "      <td>100000.0</td>\n",
       "    </tr>\n",
       "    <tr>\n",
       "      <th>3</th>\n",
       "      <td>2021</td>\n",
       "      <td>2</td>\n",
       "      <td>1</td>\n",
       "      <td>33</td>\n",
       "      <td>5</td>\n",
       "      <td>100</td>\n",
       "      <td>5</td>\n",
       "      <td>0</td>\n",
       "      <td>NaN</td>\n",
       "      <td>270000.0</td>\n",
       "    </tr>\n",
       "    <tr>\n",
       "      <th>4</th>\n",
       "      <td>2021</td>\n",
       "      <td>2</td>\n",
       "      <td>0</td>\n",
       "      <td>36</td>\n",
       "      <td>8</td>\n",
       "      <td>0</td>\n",
       "      <td>5</td>\n",
       "      <td>0</td>\n",
       "      <td>NaN</td>\n",
       "      <td>26005.0</td>\n",
       "    </tr>\n",
       "  </tbody>\n",
       "</table>\n",
       "</div>"
      ],
      "text/plain": [
       "   work_year  experience_level  employment_type  job_title  \\\n",
       "0       2022                 1                0         36   \n",
       "1       2022                 1                0         36   \n",
       "2       2021                 2                0         31   \n",
       "3       2021                 2                1         33   \n",
       "4       2021                 2                0         36   \n",
       "\n",
       "   employee_residence  remote_ratio  company_location  company_size   y  \\\n",
       "0                   5           100                 5             1 NaN   \n",
       "1                   5           100                 5             1 NaN   \n",
       "2                   5           100                 5             1 NaN   \n",
       "3                   5           100                 5             0 NaN   \n",
       "4                   8             0                 5             0 NaN   \n",
       "\n",
       "   salary_in_usd  \n",
       "0       140250.0  \n",
       "1       135000.0  \n",
       "2       100000.0  \n",
       "3       270000.0  \n",
       "4        26005.0  "
      ]
     },
     "execution_count": 14,
     "metadata": {},
     "output_type": "execute_result"
    }
   ],
   "source": [
    "ok_s = todo.loc[todo['y'] != -1]\n",
    "ok_s.head()"
   ]
  },
  {
   "cell_type": "code",
   "execution_count": 15,
   "id": "856b66f1",
   "metadata": {},
   "outputs": [
    {
     "data": {
      "text/plain": [
       "(500, 10)"
      ]
     },
     "execution_count": 15,
     "metadata": {},
     "output_type": "execute_result"
    }
   ],
   "source": [
    "ok_s.shape"
   ]
  },
  {
   "cell_type": "code",
   "execution_count": 16,
   "id": "33e47b98",
   "metadata": {},
   "outputs": [],
   "source": [
    "ok_s.drop('y', axis=1, inplace=True)\n",
    "ok.drop('salary_in_usd', axis=1, inplace=True)\n",
    "ok.drop('y', axis=1, inplace=True)"
   ]
  },
  {
   "cell_type": "markdown",
   "id": "6135d177",
   "metadata": {},
   "source": [
    "## Modelos"
   ]
  },
  {
   "cell_type": "code",
   "execution_count": 17,
   "id": "a398bdc2",
   "metadata": {},
   "outputs": [],
   "source": [
    "X = ok_s.drop('salary_in_usd', axis = 1)\n",
    "y = ok_s.salary_in_usd"
   ]
  },
  {
   "cell_type": "code",
   "execution_count": 18,
   "id": "adb2e1ac",
   "metadata": {},
   "outputs": [
    {
     "data": {
      "text/plain": [
       "((400, 8), (100, 8), (400,), (100,))"
      ]
     },
     "execution_count": 18,
     "metadata": {},
     "output_type": "execute_result"
    }
   ],
   "source": [
    "X_train, X_test, y_train, y_test = tts(X, y, train_size=0.8, test_size=0.2, random_state=42)\n",
    "\n",
    "X_train.shape, X_test.shape, y_train.shape, y_test.shape"
   ]
  },
  {
   "cell_type": "code",
   "execution_count": 19,
   "id": "d0f5d4d8",
   "metadata": {},
   "outputs": [
    {
     "name": "stdout",
     "output_type": "stream",
     "text": [
      "54006.72106513985 60734.57884141029 50592.35345341891 54939.04367421978 52557.32278582287 68697.18785922742 51329.94973770452\n"
     ]
    }
   ],
   "source": [
    "#Inicializamos modelos\n",
    "rfr=RFR()\n",
    "etr=ETR()\n",
    "gbr=GBR()\n",
    "xgbr=XGBR()\n",
    "ctr=CTR()\n",
    "dtr=DTR()\n",
    "lgbmr=LGBMR()\n",
    "\n",
    "#Entrenamientos\n",
    "rfr.fit(X_train, y_train)\n",
    "etr.fit(X_train, y_train)\n",
    "gbr.fit(X_train, y_train)\n",
    "xgbr.fit(X_train, y_train)\n",
    "ctr.fit(X_train, y_train, verbose=0)\n",
    "dtr.fit(X_train, y_train)\n",
    "lgbmr.fit(X_train, y_train)\n",
    "\n",
    "#Predicciones\n",
    "y_pred_rfr = rfr.predict(X_test)\n",
    "y_pred_etr = etr.predict(X_test)\n",
    "y_pred_gbr = gbr.predict(X_test)\n",
    "y_pred_xgbr = xgbr.predict(X_test)\n",
    "y_pred_ctr = ctr.predict(X_test)\n",
    "y_pred_dtr = dtr.predict(X_test)\n",
    "y_pred_lgbmr = lgbmr.predict(X_test)\n",
    "\n",
    "#Calculo de error\n",
    "print(mse(y_test, y_pred_rfr, squared=False), mse(y_test, y_pred_etr, squared=False), mse(y_test, y_pred_gbr, squared=False), \n",
    "mse(y_test, y_pred_xgbr, squared=False), mse(y_test, y_pred_ctr, squared=False), mse(y_test, y_pred_dtr, squared=False),\n",
    "mse(y_test, y_pred_lgbmr, squared=False))"
   ]
  },
  {
   "cell_type": "markdown",
   "id": "036b14b6",
   "metadata": {},
   "source": [
    "### Mejor Modelo: LightGBMR"
   ]
  },
  {
   "cell_type": "code",
   "execution_count": 20,
   "id": "10c03db8",
   "metadata": {},
   "outputs": [
    {
     "data": {
      "text/plain": [
       "107"
      ]
     },
     "execution_count": 20,
     "metadata": {},
     "output_type": "execute_result"
    }
   ],
   "source": [
    "lgbmr.fit(X_train, y_train)\n",
    "\n",
    "y_pred_lgbmr = lgbmr.predict(ok)\n",
    "y_pred_lgbmr[:10]\n",
    "\n",
    "len(y_pred_lgbmr)"
   ]
  },
  {
   "cell_type": "markdown",
   "id": "26c1e641",
   "metadata": {},
   "source": [
    "## Exportar"
   ]
  },
  {
   "cell_type": "code",
   "execution_count": 21,
   "id": "2c18174e",
   "metadata": {},
   "outputs": [
    {
     "data": {
      "text/html": [
       "<div>\n",
       "<style scoped>\n",
       "    .dataframe tbody tr th:only-of-type {\n",
       "        vertical-align: middle;\n",
       "    }\n",
       "\n",
       "    .dataframe tbody tr th {\n",
       "        vertical-align: top;\n",
       "    }\n",
       "\n",
       "    .dataframe thead th {\n",
       "        text-align: right;\n",
       "    }\n",
       "</style>\n",
       "<table border=\"1\" class=\"dataframe\">\n",
       "  <thead>\n",
       "    <tr style=\"text-align: right;\">\n",
       "      <th></th>\n",
       "      <th>id</th>\n",
       "      <th>salary_in_usd</th>\n",
       "    </tr>\n",
       "  </thead>\n",
       "  <tbody>\n",
       "    <tr>\n",
       "      <th>0</th>\n",
       "      <td>0</td>\n",
       "      <td>107208.864773</td>\n",
       "    </tr>\n",
       "    <tr>\n",
       "      <th>1</th>\n",
       "      <td>1</td>\n",
       "      <td>174047.182679</td>\n",
       "    </tr>\n",
       "    <tr>\n",
       "      <th>2</th>\n",
       "      <td>2</td>\n",
       "      <td>125077.679379</td>\n",
       "    </tr>\n",
       "    <tr>\n",
       "      <th>3</th>\n",
       "      <td>3</td>\n",
       "      <td>32419.216365</td>\n",
       "    </tr>\n",
       "    <tr>\n",
       "      <th>4</th>\n",
       "      <td>4</td>\n",
       "      <td>79881.607002</td>\n",
       "    </tr>\n",
       "  </tbody>\n",
       "</table>\n",
       "</div>"
      ],
      "text/plain": [
       "   id  salary_in_usd\n",
       "0   0  107208.864773\n",
       "1   1  174047.182679\n",
       "2   2  125077.679379\n",
       "3   3   32419.216365\n",
       "4   4   79881.607002"
      ]
     },
     "execution_count": 21,
     "metadata": {},
     "output_type": "execute_result"
    }
   ],
   "source": [
    "res = pd.read_csv('../data/muestra.csv')\n",
    "res.salary_in_usd = y_pred_lgbmr\n",
    "res.head()"
   ]
  },
  {
   "cell_type": "code",
   "execution_count": 22,
   "id": "c0115159",
   "metadata": {},
   "outputs": [],
   "source": [
    "res.to_csv('../data/resultado_lgbmr_contodo.csv', index = False)"
   ]
  },
  {
   "cell_type": "code",
   "execution_count": null,
   "id": "73ecf966",
   "metadata": {},
   "outputs": [],
   "source": []
  }
 ],
 "metadata": {
  "kernelspec": {
   "display_name": "Python 3 (ipykernel)",
   "language": "python",
   "name": "python3"
  },
  "language_info": {
   "codemirror_mode": {
    "name": "ipython",
    "version": 3
   },
   "file_extension": ".py",
   "mimetype": "text/x-python",
   "name": "python",
   "nbconvert_exporter": "python",
   "pygments_lexer": "ipython3",
   "version": "3.9.12"
  }
 },
 "nbformat": 4,
 "nbformat_minor": 5
}
